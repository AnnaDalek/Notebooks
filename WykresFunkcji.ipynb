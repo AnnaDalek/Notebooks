{
  "nbformat": 4,
  "nbformat_minor": 0,
  "metadata": {
    "colab": {
      "name": "WykresFunkcji.ipynb",
      "provenance": [],
      "authorship_tag": "ABX9TyPULdZndbCYuvmOKPr1ofSv",
      "include_colab_link": true
    },
    "kernelspec": {
      "name": "python3",
      "display_name": "Python 3"
    }
  },
  "cells": [
    {
      "cell_type": "markdown",
      "metadata": {
        "id": "view-in-github",
        "colab_type": "text"
      },
      "source": [
        "<a href=\"https://colab.research.google.com/github/AnnaDalek/Notebooks/blob/master/WykresFunkcji.ipynb\" target=\"_parent\"><img src=\"https://colab.research.google.com/assets/colab-badge.svg\" alt=\"Open In Colab\"/></a>"
      ]
    },
    {
      "cell_type": "code",
      "metadata": {
        "id": "FFfOB_ZViI5Z",
        "colab_type": "code",
        "colab": {}
      },
      "source": [
        "import matplotlib.pyplot as plt\n"
      ],
      "execution_count": 0,
      "outputs": []
    },
    {
      "cell_type": "code",
      "metadata": {
        "id": "XEKhOyIdiL2r",
        "colab_type": "code",
        "colab": {}
      },
      "source": [
        "import numpy as np"
      ],
      "execution_count": 0,
      "outputs": []
    },
    {
      "cell_type": "code",
      "metadata": {
        "id": "XUbdgXFlhspA",
        "colab_type": "code",
        "colab": {
          "base_uri": "https://localhost:8080/",
          "height": 297
        },
        "outputId": "7a9434ce-32ba-4c92-de1d-871b39609e56"
      },
      "source": [
        "x = np.linspace(0, np.pi * 2, 100)\n",
        "y = np.tan(x)\n",
        "plt.plot(x, y, color = 'blue')\n",
        "plt.grid(True)\n",
        "plt.xlim(1, np.pi* 2)\n",
        "plt.xlabel(\"x\")\n",
        "plt.ylabel(r'$f(x) = tan\\left(x\\right)$')\n",
        "plt.title(r'$y=tan\\left(x\\right)$')\n",
        "plt.savefig(\"fig1.png\", dpi = 72)\n",
        "plt.show()"
      ],
      "execution_count": 11,
      "outputs": [
        {
          "output_type": "display_data",
          "data": {
            "image/png": "[encoded data removed]",
            "text/plain": [
              "<Figure size 432x288 with 1 Axes>"
            ]
          },
          "metadata": {
            "tags": [],
            "needs_background": "light"
          }
        }
      ]
    }
  ]
}